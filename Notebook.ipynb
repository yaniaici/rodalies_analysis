{
 "cells": [
  {
   "cell_type": "code",
   "execution_count": 4,
   "id": "95552bf1-3dd9-4836-8d4e-aa82b84f3f52",
   "metadata": {},
   "outputs": [
    {
     "data": {
      "application/vnd.jupyter.widget-view+json": {
       "model_id": "0437bad56cc04d1ca33b937f4e807cdc",
       "version_major": 2,
       "version_minor": 0
      },
      "text/plain": [
       "IntSlider(value=0, continuous_update=False, description='Hora:', max=23)"
      ]
     },
     "metadata": {},
     "output_type": "display_data"
    },
    {
     "data": {
      "application/vnd.jupyter.widget-view+json": {
       "model_id": "1b399db1b28042f4a379a0e7fa9296a4",
       "version_major": 2,
       "version_minor": 0
      },
      "text/plain": [
       "Output()"
      ]
     },
     "metadata": {},
     "output_type": "display_data"
    }
   ],
   "source": [
    "import os\n",
    "import pandas as pd\n",
    "import folium\n",
    "from folium.plugins import HeatMap\n",
    "import ipywidgets as widgets\n",
    "from IPython.display import display, clear_output\n",
    "\n",
    "# Función para cargar y combinar los datos\n",
    "def cargar_datos():\n",
    "    base_dir = os.getcwd()  # Obtener el directorio actual\n",
    "    coords_path = os.path.join(base_dir, 'data/estaciones_coordenadas.csv')\n",
    "    coords_df = pd.read_csv(coords_path)\n",
    "\n",
    "    freq_path = os.path.join(base_dir, 'data/frecuencia_optima_por_estacion.csv')\n",
    "    freq_df = pd.read_csv(freq_path)\n",
    "\n",
    "    data = pd.merge(freq_df, coords_df, on='NOMBRE_ESTACION')\n",
    "    data = data.dropna(subset=['LATITUD', 'LONGITUD'])  # Filtrar filas con coordenadas NaN\n",
    "\n",
    "    return data\n",
    "\n",
    "# Función para crear un mapa de calor para una hora específica\n",
    "def crear_mapa_hora(data, hora):\n",
    "    hora_str = f\"{hora:02}:00\"\n",
    "    data_hora = data[data['HORA_INICIO_LEGIBLE'] == hora_str]\n",
    "\n",
    "    mapa = folium.Map(location=[41.3851, 2.1734], zoom_start=8)\n",
    "    heat_data = [[row['LATITUD'], row['LONGITUD'], row['FRECUENCIA_OPTIMA']] for index, row in data_hora.iterrows()]\n",
    "    HeatMap(heat_data).add_to(mapa)\n",
    "\n",
    "    return mapa\n",
    "\n",
    "# Función para mostrar el mapa interactivo con el deslizador de hora\n",
    "def mostrar_mapa_interactivo(data):\n",
    "    hora_slider = widgets.IntSlider(value=0, min=0, max=23, step=1, description='Hora:', continuous_update=False)\n",
    "    output = widgets.Output()  # Crear un widget de salida\n",
    "\n",
    "    def actualizar_mapa(change):\n",
    "        with output:\n",
    "            clear_output(wait=True)  # Limpiar la salida antes de mostrar el nuevo mapa\n",
    "            mapa = crear_mapa_hora(data, change['new'])\n",
    "            display(mapa)\n",
    "\n",
    "    hora_slider.observe(actualizar_mapa, names='value')\n",
    "\n",
    "    display(hora_slider)\n",
    "    display(output)\n",
    "    \n",
    "    # Mostrar el mapa inicial\n",
    "    with output:\n",
    "        mapa_inicial = crear_mapa_hora(data, hora_slider.value)\n",
    "        display(mapa_inicial)\n",
    "\n",
    "# Cargar los datos combinados y filtrados\n",
    "data = cargar_datos()\n",
    "\n",
    "# Mostrar el mapa interactivo\n",
    "mostrar_mapa_interactivo(data)\n"
   ]
  },
  {
   "cell_type": "code",
   "execution_count": null,
   "id": "1959f4a2-8a88-4dd3-8555-62cece1b531f",
   "metadata": {},
   "outputs": [],
   "source": []
  }
 ],
 "metadata": {
  "kernelspec": {
   "display_name": "Python 3 (ipykernel)",
   "language": "python",
   "name": "python3"
  },
  "language_info": {
   "codemirror_mode": {
    "name": "ipython",
    "version": 3
   },
   "file_extension": ".py",
   "mimetype": "text/x-python",
   "name": "python",
   "nbconvert_exporter": "python",
   "pygments_lexer": "ipython3",
   "version": "3.12.3"
  }
 },
 "nbformat": 4,
 "nbformat_minor": 5
}
